{
 "cells": [
  {
   "cell_type": "code",
   "execution_count": 1,
   "id": "d6dfeee3",
   "metadata": {},
   "outputs": [],
   "source": [
    "import pandas as pd \n",
    "import numpy as np\n"
   ]
  },
  {
   "cell_type": "code",
   "execution_count": 50,
   "id": "fff8be12",
   "metadata": {},
   "outputs": [],
   "source": [
    "\n",
    "data = {\n",
    "    '종목코드' : [\"037730\",\"036360\",\"005670\"],\n",
    "    '종목명' : [\"3R\",\"3SOFT\",\"ACTS\"],\n",
    "    '현재가' : [1510,1790,1185]\n",
    "}\n",
    "\n",
    "df = pd.DataFrame(data)\n"
   ]
  },
  {
   "cell_type": "code",
   "execution_count": 51,
   "id": "17c8d6c1",
   "metadata": {},
   "outputs": [
    {
     "name": "stdout",
     "output_type": "stream",
     "text": [
      "     종목코드    종목명   현재가\n",
      "0  037730     3R  1510\n",
      "1  036360  3SOFT  1790\n",
      "2  005670   ACTS  1185\n"
     ]
    }
   ],
   "source": [
    "print(df)"
   ]
  },
  {
   "cell_type": "code",
   "execution_count": 16,
   "id": "12a1a84b",
   "metadata": {},
   "outputs": [],
   "source": [
    "data = [\n",
    "    [\"037730\", \"3R\", 1510],\n",
    "    [\"036360\", \"3SOFT\", 1790],\n",
    "    [\"005670\", \"ACTS\", 1185],\n",
    "]\n",
    "\n",
    "columns = ['종목코드','종목명','현재가']"
   ]
  },
  {
   "cell_type": "code",
   "execution_count": 17,
   "id": "b59c273d",
   "metadata": {},
   "outputs": [],
   "source": [
    "df2 = pd.DataFrame(data= data,columns=columns)"
   ]
  },
  {
   "cell_type": "code",
   "execution_count": 18,
   "id": "e42e9645",
   "metadata": {},
   "outputs": [
    {
     "name": "stdout",
     "output_type": "stream",
     "text": [
      "     종목코드    종목명   현재가\n",
      "0  037730     3R  1510\n",
      "1  036360  3SOFT  1790\n",
      "2  005670   ACTS  1185\n"
     ]
    }
   ],
   "source": [
    "print(df2)"
   ]
  },
  {
   "cell_type": "code",
   "execution_count": 19,
   "id": "01db5392",
   "metadata": {},
   "outputs": [],
   "source": [
    "data = [\n",
    "    {\"종목코드\": \"037730\", \"종목명\": \"3R\", \"현재가\": 1510},\n",
    "    {\"종목코드\": \"036360\", \"종목명\": \"3SOFT\", \"현재가\": 1790},\n",
    "    {\"종목코드\": \"005760\", \"종목명\": \"ACTS\", \"현재가\": 1185},\n",
    "]\n",
    "\n",
    "df3 = pd.DataFrame(data)"
   ]
  },
  {
   "cell_type": "code",
   "execution_count": 20,
   "id": "7a98a3d5",
   "metadata": {},
   "outputs": [
    {
     "name": "stdout",
     "output_type": "stream",
     "text": [
      "     종목코드    종목명   현재가\n",
      "0  037730     3R  1510\n",
      "1  036360  3SOFT  1790\n",
      "2  005760   ACTS  1185\n"
     ]
    }
   ],
   "source": [
    "print (df3)"
   ]
  },
  {
   "cell_type": "code",
   "execution_count": 21,
   "id": "b4e81cce",
   "metadata": {},
   "outputs": [],
   "source": [
    "data = [\n",
    "    [\"037730\", \"3R\", 1510, 7.36],\n",
    "    [\"036360\", \"3SOFT\", 1790, 1.65],\n",
    "    [\"005670\", \"ACTS\", 1185, 1.28]\n",
    "]\n",
    "\n",
    "columns = [\"종목코드\", \"종목명\", \"현재가\", \"등락률\"]\n",
    "\n",
    "df4 = pd.DataFrame(data=data,columns=columns)"
   ]
  },
  {
   "cell_type": "code",
   "execution_count": 22,
   "id": "5ba4790c",
   "metadata": {},
   "outputs": [
    {
     "name": "stdout",
     "output_type": "stream",
     "text": [
      "     종목코드    종목명   현재가   등락률\n",
      "0  037730     3R  1510  7.36\n",
      "1  036360  3SOFT  1790  1.65\n",
      "2  005670   ACTS  1185  1.28\n"
     ]
    }
   ],
   "source": [
    "print(df4)"
   ]
  },
  {
   "cell_type": "code",
   "execution_count": 23,
   "id": "2440f0b2",
   "metadata": {},
   "outputs": [],
   "source": [
    "df5 = df4.set_index('종목코드')"
   ]
  },
  {
   "cell_type": "code",
   "execution_count": 24,
   "id": "a3b1197f",
   "metadata": {},
   "outputs": [
    {
     "name": "stdout",
     "output_type": "stream",
     "text": [
      "          종목명   현재가   등락률\n",
      "종목코드                     \n",
      "037730     3R  1510  7.36\n",
      "036360  3SOFT  1790  1.65\n",
      "005670   ACTS  1185  1.28\n"
     ]
    }
   ],
   "source": [
    "print(df5)"
   ]
  },
  {
   "cell_type": "code",
   "execution_count": 26,
   "id": "9ef0da79",
   "metadata": {},
   "outputs": [],
   "source": [
    "df4.set_index(\"종목코드\", inplace = True)"
   ]
  },
  {
   "cell_type": "code",
   "execution_count": 27,
   "id": "bdce934c",
   "metadata": {},
   "outputs": [
    {
     "name": "stdout",
     "output_type": "stream",
     "text": [
      "          종목명   현재가   등락률\n",
      "종목코드                     \n",
      "037730     3R  1510  7.36\n",
      "036360  3SOFT  1790  1.65\n",
      "005670   ACTS  1185  1.28\n"
     ]
    }
   ],
   "source": [
    "print(df4)"
   ]
  },
  {
   "cell_type": "code",
   "execution_count": 35,
   "id": "8bf3ed5b",
   "metadata": {},
   "outputs": [
    {
     "name": "stdout",
     "output_type": "stream",
     "text": [
      "종목코드\n",
      "037730    1510\n",
      "036360    1790\n",
      "005670    1185\n",
      "Name: 현재가, dtype: int64\n"
     ]
    }
   ],
   "source": [
    "#Indexing \n",
    "\n",
    "print(df4[\"현재가\"])"
   ]
  },
  {
   "cell_type": "code",
   "execution_count": 36,
   "id": "51490000",
   "metadata": {},
   "outputs": [
    {
     "name": "stdout",
     "output_type": "stream",
     "text": [
      "0    1510\n",
      "1    1790\n",
      "2    1185\n",
      "Name: 현재가, dtype: int64\n"
     ]
    }
   ],
   "source": [
    "print(df.현재가)"
   ]
  },
  {
   "cell_type": "code",
   "execution_count": 43,
   "id": "f08118eb",
   "metadata": {},
   "outputs": [
    {
     "name": "stdout",
     "output_type": "stream",
     "text": [
      "         현재가   등락률\n",
      "종목코드              \n",
      "037730  1510  7.36\n",
      "036360  1790  1.65\n",
      "005670  1185  1.28\n"
     ]
    }
   ],
   "source": [
    "print(df4[['현재가','등락률']])"
   ]
  },
  {
   "cell_type": "code",
   "execution_count": 45,
   "id": "c44d5e6e",
   "metadata": {},
   "outputs": [
    {
     "data": {
      "text/plain": [
       "0    1510\n",
       "1    1790\n",
       "2    1185\n",
       "Name: 현재가, dtype: int64"
      ]
     },
     "execution_count": 45,
     "metadata": {},
     "output_type": "execute_result"
    }
   ],
   "source": [
    "df['현재가']"
   ]
  },
  {
   "cell_type": "code",
   "execution_count": 56,
   "id": "eeb76754",
   "metadata": {},
   "outputs": [
    {
     "data": {
      "text/plain": [
       "종목명      3R\n",
       "현재가    1510\n",
       "등락률    7.36\n",
       "Name: 037730, dtype: object"
      ]
     },
     "execution_count": 56,
     "metadata": {},
     "output_type": "execute_result"
    }
   ],
   "source": [
    "df5.loc['037730']"
   ]
  },
  {
   "cell_type": "code",
   "execution_count": 57,
   "id": "2037c403",
   "metadata": {},
   "outputs": [
    {
     "data": {
      "text/plain": [
       "종목코드    037730\n",
       "종목명         3R\n",
       "현재가       1510\n",
       "Name: 0, dtype: object"
      ]
     },
     "execution_count": 57,
     "metadata": {},
     "output_type": "execute_result"
    }
   ],
   "source": [
    "df.iloc[0]"
   ]
  },
  {
   "cell_type": "code",
   "execution_count": 60,
   "id": "410882fc",
   "metadata": {},
   "outputs": [
    {
     "name": "stdout",
     "output_type": "stream",
     "text": [
      "         종목명   현재가   등락률\n",
      "종목코드                    \n",
      "037730    3R  1510  7.36\n",
      "005670  ACTS  1185  1.28\n"
     ]
    }
   ],
   "source": [
    "print(df5.loc[['037730','005670']])"
   ]
  },
  {
   "cell_type": "code",
   "execution_count": 61,
   "id": "b8aff3df",
   "metadata": {},
   "outputs": [],
   "source": [
    "result = df5.loc[['037730','005670']]"
   ]
  },
  {
   "cell_type": "code",
   "execution_count": 64,
   "id": "ebd7511d",
   "metadata": {},
   "outputs": [
    {
     "data": {
      "text/plain": [
       "종목명      3R\n",
       "현재가    1510\n",
       "등락률    7.36\n",
       "Name: 037730, dtype: object"
      ]
     },
     "execution_count": 64,
     "metadata": {},
     "output_type": "execute_result"
    }
   ],
   "source": [
    "result.loc['037730']"
   ]
  },
  {
   "cell_type": "code",
   "execution_count": 65,
   "id": "9cc29b5b",
   "metadata": {},
   "outputs": [
    {
     "data": {
      "text/plain": [
       "1510"
      ]
     },
     "execution_count": 65,
     "metadata": {},
     "output_type": "execute_result"
    }
   ],
   "source": [
    "df5.iloc[0].iloc[1]"
   ]
  },
  {
   "cell_type": "code",
   "execution_count": 66,
   "id": "67f4a048",
   "metadata": {},
   "outputs": [
    {
     "data": {
      "text/html": [
       "<div>\n",
       "<style scoped>\n",
       "    .dataframe tbody tr th:only-of-type {\n",
       "        vertical-align: middle;\n",
       "    }\n",
       "\n",
       "    .dataframe tbody tr th {\n",
       "        vertical-align: top;\n",
       "    }\n",
       "\n",
       "    .dataframe thead th {\n",
       "        text-align: right;\n",
       "    }\n",
       "</style>\n",
       "<table border=\"1\" class=\"dataframe\">\n",
       "  <thead>\n",
       "    <tr style=\"text-align: right;\">\n",
       "      <th></th>\n",
       "      <th>cd</th>\n",
       "      <th>nm</th>\n",
       "      <th>close</th>\n",
       "    </tr>\n",
       "  </thead>\n",
       "  <tbody>\n",
       "    <tr>\n",
       "      <th>0</th>\n",
       "      <td>A060310</td>\n",
       "      <td>3S</td>\n",
       "      <td>2,920</td>\n",
       "    </tr>\n",
       "    <tr>\n",
       "      <th>1</th>\n",
       "      <td>A095570</td>\n",
       "      <td>AJ네트웍스</td>\n",
       "      <td>6,250</td>\n",
       "    </tr>\n",
       "    <tr>\n",
       "      <th>2</th>\n",
       "      <td>A006840</td>\n",
       "      <td>AK홀딩스</td>\n",
       "      <td>29,700</td>\n",
       "    </tr>\n",
       "    <tr>\n",
       "      <th>3</th>\n",
       "      <td>A054620</td>\n",
       "      <td>APS홀딩스</td>\n",
       "      <td>19,400</td>\n",
       "    </tr>\n",
       "  </tbody>\n",
       "</table>\n",
       "</div>"
      ],
      "text/plain": [
       "        cd      nm   close\n",
       "0  A060310      3S   2,920\n",
       "1  A095570  AJ네트웍스   6,250\n",
       "2  A006840   AK홀딩스  29,700\n",
       "3  A054620  APS홀딩스  19,400"
      ]
     },
     "execution_count": 66,
     "metadata": {},
     "output_type": "execute_result"
    }
   ],
   "source": [
    "from pandas import DataFrame\n",
    "\n",
    "data = [\n",
    "    {\"cd\":\"A060310\", \"nm\":\"3S\", \"close\":\"2,920\"},\n",
    "    {\"cd\":\"A095570\", \"nm\":\"AJ네트웍스\", \"close\":\"6,250\"},\n",
    "    {\"cd\":\"A006840\", \"nm\":\"AK홀딩스\", \"close\":\"29,700\"},\n",
    "    {\"cd\":\"A054620\", \"nm\":\"APS홀딩스\", \"close\":\"19,400\"}\n",
    "]\n",
    "df = DataFrame(data=data)\n",
    "df"
   ]
  },
  {
   "cell_type": "code",
   "execution_count": 67,
   "id": "a0698150",
   "metadata": {},
   "outputs": [
    {
     "data": {
      "text/plain": [
       "0    A060310\n",
       "1    A095570\n",
       "2    A006840\n",
       "3    A054620\n",
       "Name: cd, dtype: object"
      ]
     },
     "execution_count": 67,
     "metadata": {},
     "output_type": "execute_result"
    }
   ],
   "source": [
    "#cd 에 A 제거  다시 저장ㅇ \n",
    "\n",
    "df['cd']"
   ]
  },
  {
   "cell_type": "code",
   "execution_count": 68,
   "id": "a44fea0f",
   "metadata": {},
   "outputs": [],
   "source": [
    "df['cd'] = df['cd'].str[1:]"
   ]
  },
  {
   "cell_type": "code",
   "execution_count": 69,
   "id": "9f68ecc4",
   "metadata": {},
   "outputs": [
    {
     "data": {
      "text/html": [
       "<div>\n",
       "<style scoped>\n",
       "    .dataframe tbody tr th:only-of-type {\n",
       "        vertical-align: middle;\n",
       "    }\n",
       "\n",
       "    .dataframe tbody tr th {\n",
       "        vertical-align: top;\n",
       "    }\n",
       "\n",
       "    .dataframe thead th {\n",
       "        text-align: right;\n",
       "    }\n",
       "</style>\n",
       "<table border=\"1\" class=\"dataframe\">\n",
       "  <thead>\n",
       "    <tr style=\"text-align: right;\">\n",
       "      <th></th>\n",
       "      <th>cd</th>\n",
       "      <th>nm</th>\n",
       "      <th>close</th>\n",
       "    </tr>\n",
       "  </thead>\n",
       "  <tbody>\n",
       "    <tr>\n",
       "      <th>0</th>\n",
       "      <td>060310</td>\n",
       "      <td>3S</td>\n",
       "      <td>2,920</td>\n",
       "    </tr>\n",
       "    <tr>\n",
       "      <th>1</th>\n",
       "      <td>095570</td>\n",
       "      <td>AJ네트웍스</td>\n",
       "      <td>6,250</td>\n",
       "    </tr>\n",
       "    <tr>\n",
       "      <th>2</th>\n",
       "      <td>006840</td>\n",
       "      <td>AK홀딩스</td>\n",
       "      <td>29,700</td>\n",
       "    </tr>\n",
       "    <tr>\n",
       "      <th>3</th>\n",
       "      <td>054620</td>\n",
       "      <td>APS홀딩스</td>\n",
       "      <td>19,400</td>\n",
       "    </tr>\n",
       "  </tbody>\n",
       "</table>\n",
       "</div>"
      ],
      "text/plain": [
       "       cd      nm   close\n",
       "0  060310      3S   2,920\n",
       "1  095570  AJ네트웍스   6,250\n",
       "2  006840   AK홀딩스  29,700\n",
       "3  054620  APS홀딩스  19,400"
      ]
     },
     "execution_count": 69,
     "metadata": {},
     "output_type": "execute_result"
    }
   ],
   "source": [
    "df"
   ]
  },
  {
   "cell_type": "code",
   "execution_count": 70,
   "id": "357019b3",
   "metadata": {},
   "outputs": [],
   "source": [
    "#close , 제거 후 숫자로 전환 \n",
    "df['close'] = df['close'].str.replace(',','').astype(np.int64)"
   ]
  },
  {
   "cell_type": "code",
   "execution_count": 71,
   "id": "dc2bbbe4",
   "metadata": {},
   "outputs": [
    {
     "data": {
      "text/html": [
       "<div>\n",
       "<style scoped>\n",
       "    .dataframe tbody tr th:only-of-type {\n",
       "        vertical-align: middle;\n",
       "    }\n",
       "\n",
       "    .dataframe tbody tr th {\n",
       "        vertical-align: top;\n",
       "    }\n",
       "\n",
       "    .dataframe thead th {\n",
       "        text-align: right;\n",
       "    }\n",
       "</style>\n",
       "<table border=\"1\" class=\"dataframe\">\n",
       "  <thead>\n",
       "    <tr style=\"text-align: right;\">\n",
       "      <th></th>\n",
       "      <th>cd</th>\n",
       "      <th>nm</th>\n",
       "      <th>close</th>\n",
       "    </tr>\n",
       "  </thead>\n",
       "  <tbody>\n",
       "    <tr>\n",
       "      <th>0</th>\n",
       "      <td>060310</td>\n",
       "      <td>3S</td>\n",
       "      <td>2920</td>\n",
       "    </tr>\n",
       "    <tr>\n",
       "      <th>1</th>\n",
       "      <td>095570</td>\n",
       "      <td>AJ네트웍스</td>\n",
       "      <td>6250</td>\n",
       "    </tr>\n",
       "    <tr>\n",
       "      <th>2</th>\n",
       "      <td>006840</td>\n",
       "      <td>AK홀딩스</td>\n",
       "      <td>29700</td>\n",
       "    </tr>\n",
       "    <tr>\n",
       "      <th>3</th>\n",
       "      <td>054620</td>\n",
       "      <td>APS홀딩스</td>\n",
       "      <td>19400</td>\n",
       "    </tr>\n",
       "  </tbody>\n",
       "</table>\n",
       "</div>"
      ],
      "text/plain": [
       "       cd      nm  close\n",
       "0  060310      3S   2920\n",
       "1  095570  AJ네트웍스   6250\n",
       "2  006840   AK홀딩스  29700\n",
       "3  054620  APS홀딩스  19400"
      ]
     },
     "execution_count": 71,
     "metadata": {},
     "output_type": "execute_result"
    }
   ],
   "source": [
    "df"
   ]
  },
  {
   "cell_type": "code",
   "execution_count": null,
   "id": "858e1d0a",
   "metadata": {},
   "outputs": [],
   "source": []
  }
 ],
 "metadata": {
  "kernelspec": {
   "display_name": "Python 3 (ipykernel)",
   "language": "python",
   "name": "python3"
  },
  "language_info": {
   "codemirror_mode": {
    "name": "ipython",
    "version": 3
   },
   "file_extension": ".py",
   "mimetype": "text/x-python",
   "name": "python",
   "nbconvert_exporter": "python",
   "pygments_lexer": "ipython3",
   "version": "3.11.5"
  }
 },
 "nbformat": 4,
 "nbformat_minor": 5
}
