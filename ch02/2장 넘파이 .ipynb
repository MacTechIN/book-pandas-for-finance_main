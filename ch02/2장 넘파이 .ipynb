{
 "cells": [
  {
   "cell_type": "code",
   "execution_count": 1,
   "id": "142ab536",
   "metadata": {},
   "outputs": [
    {
     "name": "stdout",
     "output_type": "stream",
     "text": [
      "Requirement already satisfied: numpy in /Users/sl/anaconda3/lib/python3.11/site-packages (1.24.3)\r\n"
     ]
    }
   ],
   "source": [
    "!pip install numpy"
   ]
  },
  {
   "cell_type": "code",
   "execution_count": 2,
   "id": "c782c4d7",
   "metadata": {},
   "outputs": [],
   "source": [
    "import numpy as np"
   ]
  },
  {
   "cell_type": "code",
   "execution_count": 3,
   "id": "71f31934",
   "metadata": {},
   "outputs": [],
   "source": [
    "data = [1,2,3] #python list \n",
    "\n",
    "np_arr = np.array(data)"
   ]
  },
  {
   "cell_type": "code",
   "execution_count": 5,
   "id": "3ba859fd",
   "metadata": {},
   "outputs": [
    {
     "name": "stdout",
     "output_type": "stream",
     "text": [
      "[1 2 3]\n"
     ]
    }
   ],
   "source": [
    "print(np_arr)"
   ]
  },
  {
   "cell_type": "code",
   "execution_count": 6,
   "id": "88c4b98e",
   "metadata": {},
   "outputs": [
    {
     "name": "stdout",
     "output_type": "stream",
     "text": [
      "<class 'numpy.ndarray'>\n"
     ]
    }
   ],
   "source": [
    "print(type(np_arr))"
   ]
  },
  {
   "cell_type": "code",
   "execution_count": 8,
   "id": "ac9a19b7",
   "metadata": {},
   "outputs": [
    {
     "name": "stdout",
     "output_type": "stream",
     "text": [
      "[100, 200, 300]\n"
     ]
    }
   ],
   "source": [
    "#예제 1-2 Python Array 사용 : # 리스트멤버를 100을 곱하여 출력하기 \n",
    "\n",
    "data = [1,2,3]\n",
    "\n",
    "result = [] \n",
    "\n",
    "for i in data:\n",
    "    result.append(i*100)\n",
    "print(result)\n",
    "\n"
   ]
  },
  {
   "cell_type": "code",
   "execution_count": 11,
   "id": "f21e81dc",
   "metadata": {},
   "outputs": [
    {
     "name": "stdout",
     "output_type": "stream",
     "text": [
      "[100 200 300]\n"
     ]
    }
   ],
   "source": [
    "#예제 1-3 Numpy ndarray 사용시 \n",
    "\n",
    "nd_arr = np.array(data)\n",
    "\n",
    "result = nd_arr * 100\n",
    "\n",
    "print(result)"
   ]
  },
  {
   "cell_type": "code",
   "execution_count": 18,
   "id": "ee1f8c16",
   "metadata": {},
   "outputs": [
    {
     "name": "stdout",
     "output_type": "stream",
     "text": [
      "[1, 2, 3]\n"
     ]
    }
   ],
   "source": [
    "#예제 1-4 일반 Array 1행 선택 data2d[0] => [1,2,3]\n",
    "data2d = [\n",
    "    [1,2,3],\n",
    "    [4,5,6],\n",
    "    [7,8,9]\n",
    "]\n",
    "\n",
    "print(data2d[0]) #열은 인덱스로 접근 가능하나 컬럼은 루프를 돌려야만 한다. "
   ]
  },
  {
   "cell_type": "code",
   "execution_count": 19,
   "id": "82d3d70e",
   "metadata": {},
   "outputs": [
    {
     "name": "stdout",
     "output_type": "stream",
     "text": [
      "[1 4 7]\n",
      "[[1 2 3]]\n"
     ]
    }
   ],
   "source": [
    "#예제 1-5 numpy 객체 효육성 \n",
    "data2d = [\n",
    "    [1,2,3],\n",
    "    [4,5,6],\n",
    "    [7,8,9]\n",
    "]\n",
    "\n",
    "arr = np.array(data2d)\n",
    "\n",
    "print(arr[: ,0 ]) #첫 Column (행) 축출   \n",
    "print(arr[0:1]) #첫 index (열) 루프없이 바로 값이 나온다. \n"
   ]
  },
  {
   "cell_type": "code",
   "execution_count": 26,
   "id": "83a59f15",
   "metadata": {},
   "outputs": [
    {
     "name": "stdout",
     "output_type": "stream",
     "text": [
      "[1 2 3 4]\n",
      "<class 'numpy.ndarray'>\n",
      "1\n",
      "(4,)\n"
     ]
    }
   ],
   "source": [
    "#ndarray \n",
    "data1 = [1,2,3,4]\n",
    "\n",
    "arr1 = np.array(data1)\n",
    "print(arr1)\n",
    "print(type(arr1))\n",
    "print(arr1.ndim) # 1 반환 \n",
    "print(arr1.shape)"
   ]
  },
  {
   "cell_type": "code",
   "execution_count": 21,
   "id": "c0ecc23c",
   "metadata": {},
   "outputs": [
    {
     "name": "stdout",
     "output_type": "stream",
     "text": [
      "[[1 2 3]\n",
      " [4 5 6]\n",
      " [7 8 9]]\n",
      "<class 'numpy.ndarray'>\n",
      "<class 'numpy.ndarray'>\n"
     ]
    }
   ],
   "source": [
    "data2d = [\n",
    "    [1,2,3],\n",
    "    [4,5,6],\n",
    "    [7,8,9]\n",
    "]\n",
    "\n",
    "arr2 = np.array(data2d)\n",
    "\n",
    "print(arr2)\n",
    "print(type(arr2))\n",
    "print(type(arr2[0]))"
   ]
  },
  {
   "cell_type": "code",
   "execution_count": 22,
   "id": "6f706e27",
   "metadata": {},
   "outputs": [
    {
     "name": "stdout",
     "output_type": "stream",
     "text": [
      "(3, 3)\n"
     ]
    }
   ],
   "source": [
    "print(arr2.shape)"
   ]
  },
  {
   "cell_type": "code",
   "execution_count": 23,
   "id": "91091e44",
   "metadata": {},
   "outputs": [
    {
     "name": "stdout",
     "output_type": "stream",
     "text": [
      "2\n"
     ]
    }
   ],
   "source": [
    "print(arr2.ndim) #2차원을 반환함. "
   ]
  },
  {
   "cell_type": "code",
   "execution_count": 25,
   "id": "40b82cd8",
   "metadata": {},
   "outputs": [
    {
     "name": "stdout",
     "output_type": "stream",
     "text": [
      "int64\n"
     ]
    }
   ],
   "source": [
    "print(arr2.dtype)"
   ]
  },
  {
   "cell_type": "code",
   "execution_count": null,
   "id": "e89fbec4",
   "metadata": {},
   "outputs": [],
   "source": []
  }
 ],
 "metadata": {
  "kernelspec": {
   "display_name": "Python 3 (ipykernel)",
   "language": "python",
   "name": "python3"
  },
  "language_info": {
   "codemirror_mode": {
    "name": "ipython",
    "version": 3
   },
   "file_extension": ".py",
   "mimetype": "text/x-python",
   "name": "python",
   "nbconvert_exporter": "python",
   "pygments_lexer": "ipython3",
   "version": "3.11.5"
  }
 },
 "nbformat": 4,
 "nbformat_minor": 5
}
